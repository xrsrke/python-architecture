{
 "cells": [
  {
   "cell_type": "markdown",
   "id": "9f50b7e0-d1a6-4438-95e5-be140ba71cb2",
   "metadata": {},
   "source": [
    "# Chapter 1: Domain Modeling"
   ]
  },
  {
   "cell_type": "markdown",
   "id": "c92c6de8-d1fa-4092-9ee5-a9d6f5221c50",
   "metadata": {},
   "source": [
    "### 3. Unit Testing Domain Models"
   ]
  },
  {
   "cell_type": "markdown",
   "id": "449d4707-e96e-4d17-9739-f7545c35307a",
   "metadata": {},
   "source": [
    "##### Example 1"
   ]
  },
  {
   "cell_type": "code",
   "execution_count": 1,
   "id": "52074c81-7403-4039-ab10-a30a7c6ebc91",
   "metadata": {},
   "outputs": [],
   "source": [
    "class Batch:\n",
    "    def __init__(self, package_id, package_color):\n",
    "        self.package_id = package_id\n",
    "        self.package_color = package_color"
   ]
  },
  {
   "cell_type": "code",
   "execution_count": 2,
   "id": "0d5496b1-43fd-46aa-b35a-11d59d9b2b86",
   "metadata": {},
   "outputs": [
    {
     "data": {
      "text/plain": [
       "<__main__.Batch at 0x7fa4b06c1430>"
      ]
     },
     "execution_count": 2,
     "metadata": {},
     "output_type": "execute_result"
    }
   ],
   "source": [
    "Batch(49124, \"blue\")"
   ]
  },
  {
   "cell_type": "markdown",
   "id": "5ab959b2-4103-4d14-8b94-96201aba3598",
   "metadata": {},
   "source": [
    "Create new type hint for `package_id` and `package_color` and refactor the code"
   ]
  },
  {
   "cell_type": "code",
   "execution_count": 3,
   "id": "105dfb9c-6e8b-456e-ba75-03f385b6ba26",
   "metadata": {},
   "outputs": [],
   "source": [
    "from typing import NewType"
   ]
  },
  {
   "cell_type": "code",
   "execution_count": 4,
   "id": "47e41531-322c-4ceb-bb02-9996ca863c97",
   "metadata": {},
   "outputs": [],
   "source": [
    "ID = NewType(\"ID\", int)"
   ]
  },
  {
   "cell_type": "code",
   "execution_count": 5,
   "id": "6859cbf3-e42e-4770-b13a-df6459505f19",
   "metadata": {},
   "outputs": [],
   "source": [
    "Color = NewType(\"Color\", str)"
   ]
  },
  {
   "cell_type": "code",
   "execution_count": 6,
   "id": "61f8ab3c-4898-40d1-8925-b5f8283b264a",
   "metadata": {},
   "outputs": [],
   "source": [
    "class Batch:\n",
    "    def __init__(self, package_id: ID, package_color: Color):\n",
    "        self.package_id = package_id\n",
    "        self.package_color = package_color"
   ]
  },
  {
   "cell_type": "code",
   "execution_count": 7,
   "id": "75797543-97e2-43f1-af9a-6a75e816d38a",
   "metadata": {},
   "outputs": [
    {
     "data": {
      "text/plain": [
       "<__main__.Batch at 0x7fa4b06c1a90>"
      ]
     },
     "execution_count": 7,
     "metadata": {},
     "output_type": "execute_result"
    }
   ],
   "source": [
    "Batch(49124, \"blue\")"
   ]
  },
  {
   "cell_type": "code",
   "execution_count": null,
   "id": "d5739074-cc3f-411c-932a-2d3c4a72843b",
   "metadata": {},
   "outputs": [],
   "source": []
  },
  {
   "cell_type": "code",
   "execution_count": null,
   "id": "114fb8f3-6254-418a-84c2-263525b6cbb4",
   "metadata": {},
   "outputs": [],
   "source": []
  }
 ],
 "metadata": {
  "kernelspec": {
   "display_name": "Python 3 (ipykernel)",
   "language": "python",
   "name": "python3"
  },
  "language_info": {
   "codemirror_mode": {
    "name": "ipython",
    "version": 3
   },
   "file_extension": ".py",
   "mimetype": "text/x-python",
   "name": "python",
   "nbconvert_exporter": "python",
   "pygments_lexer": "ipython3",
   "version": "3.9.12"
  }
 },
 "nbformat": 4,
 "nbformat_minor": 5
}
